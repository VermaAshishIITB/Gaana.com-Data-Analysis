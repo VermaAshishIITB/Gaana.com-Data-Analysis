{
 "cells": [
  {
   "cell_type": "code",
   "execution_count": 21,
   "id": "3321d11b",
   "metadata": {},
   "outputs": [],
   "source": [
    "import pandas as pd\n",
    "from tqdm import tqdm"
   ]
  },
  {
   "cell_type": "code",
   "execution_count": 22,
   "id": "0a927048",
   "metadata": {},
   "outputs": [],
   "source": [
    "df = pd.read_csv('songs.csv')"
   ]
  },
  {
   "cell_type": "code",
   "execution_count": 23,
   "id": "e0683b0f",
   "metadata": {},
   "outputs": [
    {
     "data": {
      "text/html": [
       "<div>\n",
       "<style scoped>\n",
       "    .dataframe tbody tr th:only-of-type {\n",
       "        vertical-align: middle;\n",
       "    }\n",
       "\n",
       "    .dataframe tbody tr th {\n",
       "        vertical-align: top;\n",
       "    }\n",
       "\n",
       "    .dataframe thead th {\n",
       "        text-align: right;\n",
       "    }\n",
       "</style>\n",
       "<table border=\"1\" class=\"dataframe\">\n",
       "  <thead>\n",
       "    <tr style=\"text-align: right;\">\n",
       "      <th></th>\n",
       "      <th>name</th>\n",
       "      <th>singer</th>\n",
       "      <th>singer_id</th>\n",
       "      <th>duration</th>\n",
       "      <th>link</th>\n",
       "      <th>language</th>\n",
       "    </tr>\n",
       "  </thead>\n",
       "  <tbody>\n",
       "    <tr>\n",
       "      <th>0</th>\n",
       "      <td>Dil - E - Nadan Tujhe</td>\n",
       "      <td>Chitra Singh|Jagjit Singh</td>\n",
       "      <td>/artist/chitra-singh|/artist/jagjeet-singh-1</td>\n",
       "      <td>05:00</td>\n",
       "      <td>/dil-e-nadan-tujhe-3</td>\n",
       "      <td>Urdu</td>\n",
       "    </tr>\n",
       "    <tr>\n",
       "      <th>1</th>\n",
       "      <td>Agar Hum Kahen Aur Woh Muskara De</td>\n",
       "      <td>Chitra Singh|Jagjit Singh</td>\n",
       "      <td>/artist/chitra-singh|/artist/jagjeet-singh-1</td>\n",
       "      <td>06:26</td>\n",
       "      <td>/agar-hum-kahen-aur-woh-muskura-den</td>\n",
       "      <td>Urdu</td>\n",
       "    </tr>\n",
       "    <tr>\n",
       "      <th>2</th>\n",
       "      <td>Unke Dekhe Se</td>\n",
       "      <td>Jagjit Singh</td>\n",
       "      <td>/artist/jagjeet-singh-1</td>\n",
       "      <td>03:41</td>\n",
       "      <td>/unke-dekhe-se</td>\n",
       "      <td>Urdu</td>\n",
       "    </tr>\n",
       "    <tr>\n",
       "      <th>3</th>\n",
       "      <td>Yeh Na Thi Hamari Qismat - Chitra Singh</td>\n",
       "      <td>Chitra Singh</td>\n",
       "      <td>/artist/chitra-singh</td>\n",
       "      <td>04:26</td>\n",
       "      <td>/yeh-na-thi-hamari-qismat-2</td>\n",
       "      <td>Urdu</td>\n",
       "    </tr>\n",
       "    <tr>\n",
       "      <th>4</th>\n",
       "      <td>Hazaron Khwahishen Aisi</td>\n",
       "      <td>Jagjit Singh</td>\n",
       "      <td>/artist/jagjeet-singh-1</td>\n",
       "      <td>05:39</td>\n",
       "      <td>/hazaron-khwahishen-aisi-1</td>\n",
       "      <td>Urdu</td>\n",
       "    </tr>\n",
       "  </tbody>\n",
       "</table>\n",
       "</div>"
      ],
      "text/plain": [
       "                                      name                     singer  \\\n",
       "0                    Dil - E - Nadan Tujhe  Chitra Singh|Jagjit Singh   \n",
       "1        Agar Hum Kahen Aur Woh Muskara De  Chitra Singh|Jagjit Singh   \n",
       "2                            Unke Dekhe Se               Jagjit Singh   \n",
       "3  Yeh Na Thi Hamari Qismat - Chitra Singh               Chitra Singh   \n",
       "4                  Hazaron Khwahishen Aisi               Jagjit Singh   \n",
       "\n",
       "                                      singer_id duration  \\\n",
       "0  /artist/chitra-singh|/artist/jagjeet-singh-1    05:00   \n",
       "1  /artist/chitra-singh|/artist/jagjeet-singh-1    06:26   \n",
       "2                       /artist/jagjeet-singh-1    03:41   \n",
       "3                          /artist/chitra-singh    04:26   \n",
       "4                       /artist/jagjeet-singh-1    05:39   \n",
       "\n",
       "                                  link language  \n",
       "0                 /dil-e-nadan-tujhe-3     Urdu  \n",
       "1  /agar-hum-kahen-aur-woh-muskura-den     Urdu  \n",
       "2                       /unke-dekhe-se     Urdu  \n",
       "3          /yeh-na-thi-hamari-qismat-2     Urdu  \n",
       "4           /hazaron-khwahishen-aisi-1     Urdu  "
      ]
     },
     "execution_count": 23,
     "metadata": {},
     "output_type": "execute_result"
    }
   ],
   "source": [
    "df.head()"
   ]
  },
  {
   "cell_type": "code",
   "execution_count": 25,
   "id": "fab00cfe",
   "metadata": {},
   "outputs": [
    {
     "data": {
      "text/plain": [
       "41355"
      ]
     },
     "execution_count": 25,
     "metadata": {},
     "output_type": "execute_result"
    }
   ],
   "source": [
    "len(df)"
   ]
  },
  {
   "cell_type": "markdown",
   "id": "9f0ce91a",
   "metadata": {},
   "source": [
    "## Checking Null values"
   ]
  },
  {
   "cell_type": "code",
   "execution_count": 4,
   "id": "5bdea61e",
   "metadata": {},
   "outputs": [
    {
     "data": {
      "text/plain": [
       "name         0\n",
       "singer       0\n",
       "singer_id    0\n",
       "duration     0\n",
       "link         0\n",
       "language     0\n",
       "dtype: int64"
      ]
     },
     "execution_count": 4,
     "metadata": {},
     "output_type": "execute_result"
    }
   ],
   "source": [
    "df.isnull().sum()"
   ]
  },
  {
   "cell_type": "markdown",
   "id": "6c556f36",
   "metadata": {},
   "source": [
    "## 2. Data Preprocess\n",
    "### 2.1) Dealing with Duration"
   ]
  },
  {
   "cell_type": "code",
   "execution_count": 6,
   "id": "d1578460",
   "metadata": {},
   "outputs": [
    {
     "data": {
      "text/html": [
       "<div>\n",
       "<style scoped>\n",
       "    .dataframe tbody tr th:only-of-type {\n",
       "        vertical-align: middle;\n",
       "    }\n",
       "\n",
       "    .dataframe tbody tr th {\n",
       "        vertical-align: top;\n",
       "    }\n",
       "\n",
       "    .dataframe thead th {\n",
       "        text-align: right;\n",
       "    }\n",
       "</style>\n",
       "<table border=\"1\" class=\"dataframe\">\n",
       "  <thead>\n",
       "    <tr style=\"text-align: right;\">\n",
       "      <th></th>\n",
       "      <th>name</th>\n",
       "      <th>singer</th>\n",
       "      <th>singer_id</th>\n",
       "      <th>duration</th>\n",
       "      <th>link</th>\n",
       "      <th>language</th>\n",
       "    </tr>\n",
       "  </thead>\n",
       "  <tbody>\n",
       "    <tr>\n",
       "      <th>0</th>\n",
       "      <td>Dil - E - Nadan Tujhe</td>\n",
       "      <td>Chitra Singh|Jagjit Singh</td>\n",
       "      <td>/artist/chitra-singh|/artist/jagjeet-singh-1</td>\n",
       "      <td>300</td>\n",
       "      <td>/dil-e-nadan-tujhe-3</td>\n",
       "      <td>Urdu</td>\n",
       "    </tr>\n",
       "    <tr>\n",
       "      <th>1</th>\n",
       "      <td>Agar Hum Kahen Aur Woh Muskara De</td>\n",
       "      <td>Chitra Singh|Jagjit Singh</td>\n",
       "      <td>/artist/chitra-singh|/artist/jagjeet-singh-1</td>\n",
       "      <td>386</td>\n",
       "      <td>/agar-hum-kahen-aur-woh-muskura-den</td>\n",
       "      <td>Urdu</td>\n",
       "    </tr>\n",
       "    <tr>\n",
       "      <th>2</th>\n",
       "      <td>Unke Dekhe Se</td>\n",
       "      <td>Jagjit Singh</td>\n",
       "      <td>/artist/jagjeet-singh-1</td>\n",
       "      <td>221</td>\n",
       "      <td>/unke-dekhe-se</td>\n",
       "      <td>Urdu</td>\n",
       "    </tr>\n",
       "    <tr>\n",
       "      <th>3</th>\n",
       "      <td>Yeh Na Thi Hamari Qismat - Chitra Singh</td>\n",
       "      <td>Chitra Singh</td>\n",
       "      <td>/artist/chitra-singh</td>\n",
       "      <td>266</td>\n",
       "      <td>/yeh-na-thi-hamari-qismat-2</td>\n",
       "      <td>Urdu</td>\n",
       "    </tr>\n",
       "    <tr>\n",
       "      <th>4</th>\n",
       "      <td>Hazaron Khwahishen Aisi</td>\n",
       "      <td>Jagjit Singh</td>\n",
       "      <td>/artist/jagjeet-singh-1</td>\n",
       "      <td>339</td>\n",
       "      <td>/hazaron-khwahishen-aisi-1</td>\n",
       "      <td>Urdu</td>\n",
       "    </tr>\n",
       "  </tbody>\n",
       "</table>\n",
       "</div>"
      ],
      "text/plain": [
       "                                      name                     singer  \\\n",
       "0                    Dil - E - Nadan Tujhe  Chitra Singh|Jagjit Singh   \n",
       "1        Agar Hum Kahen Aur Woh Muskara De  Chitra Singh|Jagjit Singh   \n",
       "2                            Unke Dekhe Se               Jagjit Singh   \n",
       "3  Yeh Na Thi Hamari Qismat - Chitra Singh               Chitra Singh   \n",
       "4                  Hazaron Khwahishen Aisi               Jagjit Singh   \n",
       "\n",
       "                                      singer_id  duration  \\\n",
       "0  /artist/chitra-singh|/artist/jagjeet-singh-1       300   \n",
       "1  /artist/chitra-singh|/artist/jagjeet-singh-1       386   \n",
       "2                       /artist/jagjeet-singh-1       221   \n",
       "3                          /artist/chitra-singh       266   \n",
       "4                       /artist/jagjeet-singh-1       339   \n",
       "\n",
       "                                  link language  \n",
       "0                 /dil-e-nadan-tujhe-3     Urdu  \n",
       "1  /agar-hum-kahen-aur-woh-muskura-den     Urdu  \n",
       "2                       /unke-dekhe-se     Urdu  \n",
       "3          /yeh-na-thi-hamari-qismat-2     Urdu  \n",
       "4           /hazaron-khwahishen-aisi-1     Urdu  "
      ]
     },
     "execution_count": 6,
     "metadata": {},
     "output_type": "execute_result"
    }
   ],
   "source": [
    "duration_lst = []\n",
    "\n",
    "for duration in df['duration']:\n",
    "\n",
    "  m = int(duration.split(':')[0])\n",
    "  s = int(duration.split(':')[1])\n",
    "  sec = (m*60) + s\n",
    "\n",
    "  duration_lst.append(sec)\n",
    "\n",
    "df['duration'] = duration_lst\n",
    "\n",
    "df.head()"
   ]
  },
  {
   "cell_type": "markdown",
   "id": "21e92265",
   "metadata": {},
   "source": [
    "## 3. Data Analysis\n",
    "### 3.1) Average Duration of a song thorughout the dataset"
   ]
  },
  {
   "cell_type": "code",
   "execution_count": 7,
   "id": "ac2f5bd0",
   "metadata": {},
   "outputs": [
    {
     "name": "stdout",
     "output_type": "stream",
     "text": [
      "Average duration of a song is 295 seconds\n"
     ]
    }
   ],
   "source": [
    "print(\"Average duration of a song is\", int(df['duration'].sum() / len(df['duration'])), 'seconds')"
   ]
  },
  {
   "cell_type": "markdown",
   "id": "d09ad436",
   "metadata": {},
   "source": [
    "### 3.2) How many laguages of songs are there is the dataset?\n"
   ]
  },
  {
   "cell_type": "code",
   "execution_count": 8,
   "id": "2bba0f91",
   "metadata": {},
   "outputs": [
    {
     "data": {
      "text/plain": [
       "16"
      ]
     },
     "execution_count": 8,
     "metadata": {},
     "output_type": "execute_result"
    }
   ],
   "source": [
    "len(set(df['language']))"
   ]
  },
  {
   "cell_type": "markdown",
   "id": "c1d820e5",
   "metadata": {},
   "source": [
    "### 3.3) What are all the languages in the dataset?"
   ]
  },
  {
   "cell_type": "code",
   "execution_count": 9,
   "id": "28eaf32a",
   "metadata": {},
   "outputs": [
    {
     "name": "stdout",
     "output_type": "stream",
     "text": [
      "Bengali\n",
      "Urdu\n",
      "Tamil\n",
      "Old\n",
      "Gujarati\n",
      "Kannada\n",
      "Bhojpuri\n",
      "Hindi\n",
      "Telugu\n",
      "Assamese\n",
      "Odia\n",
      "Haryanvi\n",
      "Marathi\n",
      "Malayalam\n",
      "Punjabi\n",
      "Rajasthani\n"
     ]
    }
   ],
   "source": [
    "for i in set(df['language']):\n",
    "  print(i)"
   ]
  },
  {
   "cell_type": "markdown",
   "id": "c0bcb81c",
   "metadata": {},
   "source": [
    "## 3.4) How many Punjabi songs are there?"
   ]
  },
  {
   "cell_type": "code",
   "execution_count": 10,
   "id": "dac6ccfd",
   "metadata": {},
   "outputs": [
    {
     "name": "stdout",
     "output_type": "stream",
     "text": [
      "There are 3818 songs in Punjabi\n"
     ]
    }
   ],
   "source": [
    "c = 0\n",
    "\n",
    "for i in df['language']:\n",
    "  if (i == 'Punjabi'):\n",
    "    c += 1\n",
    "\n",
    "print('There are',c,'songs in Punjabi')"
   ]
  },
  {
   "cell_type": "code",
   "execution_count": 11,
   "id": "fcda7b06",
   "metadata": {},
   "outputs": [
    {
     "data": {
      "text/plain": [
       "3818"
      ]
     },
     "execution_count": 11,
     "metadata": {},
     "output_type": "execute_result"
    }
   ],
   "source": [
    "len(df[df['language'] == 'Punjabi'])"
   ]
  },
  {
   "cell_type": "markdown",
   "id": "0485827e",
   "metadata": {},
   "source": [
    "## 3.5) Number of songs in each Language?"
   ]
  },
  {
   "cell_type": "code",
   "execution_count": 13,
   "id": "ddfaba28",
   "metadata": {},
   "outputs": [
    {
     "name": "stdout",
     "output_type": "stream",
     "text": [
      "Urdu 3116\n",
      "Gujarati 2115\n",
      "Tamil 4677\n",
      "Kannada 3559\n",
      "Rajasthani 541\n",
      "Haryanvi 228\n",
      "Punjabi 3818\n",
      "Hindi 4993\n",
      "Old 4993\n",
      "Malayalam 479\n",
      "Marathi 4699\n",
      "Telugu 4996\n",
      "Odia 940\n",
      "Bhojpuri 519\n",
      "Assamese 724\n",
      "Bengali 958\n"
     ]
    }
   ],
   "source": [
    "for lang in df['language'].unique():\n",
    "  print(lang, len(df[df['language'] == lang]))"
   ]
  },
  {
   "cell_type": "markdown",
   "id": "b525dbd0",
   "metadata": {},
   "source": [
    "## 3.6) Average Duration of song in each language"
   ]
  },
  {
   "cell_type": "code",
   "execution_count": 14,
   "id": "8461a21c",
   "metadata": {},
   "outputs": [
    {
     "name": "stdout",
     "output_type": "stream",
     "text": [
      "Urdu 407\n",
      "Gujarati 271\n",
      "Tamil 270\n",
      "Kannada 250\n",
      "Rajasthani 291\n",
      "Haryanvi 320\n",
      "Punjabi 324\n",
      "Hindi 307\n",
      "Old 307\n",
      "Malayalam 242\n",
      "Marathi 281\n",
      "Telugu 279\n",
      "Odia 257\n",
      "Bhojpuri 357\n",
      "Assamese 228\n",
      "Bengali 255\n"
     ]
    }
   ],
   "source": [
    "for lang in df['language'].unique():\n",
    "  print(lang, int(df[df['language'] == lang]['duration'].mean()))"
   ]
  },
  {
   "cell_type": "markdown",
   "id": "f4ee94c1",
   "metadata": {},
   "source": [
    "### 3.7) How many unique singers are there in the dataset?"
   ]
  },
  {
   "cell_type": "code",
   "execution_count": 15,
   "id": "c01c2972",
   "metadata": {},
   "outputs": [
    {
     "name": "stdout",
     "output_type": "stream",
     "text": [
      "Total Singers :  3940\n"
     ]
    }
   ],
   "source": [
    "all_singer = []\n",
    "for singers in df['singer']:\n",
    "  all_singer += singers.split('|')\n",
    "\n",
    "print('Total Singers : ', len(set(all_singer)))"
   ]
  },
  {
   "cell_type": "markdown",
   "id": "e2506f68",
   "metadata": {},
   "source": [
    "### 3.8) Singer who recorded most no of songs ?"
   ]
  },
  {
   "cell_type": "code",
   "execution_count": 17,
   "id": "2f4fc250",
   "metadata": {},
   "outputs": [
    {
     "name": "stderr",
     "output_type": "stream",
     "text": [
      "100%|██████████████████████████████████████████████████████████████████████████████| 3940/3940 [00:41<00:00, 95.32it/s]\n"
     ]
    }
   ],
   "source": [
    "data = []\n",
    "\n",
    "unique_singers = list(set(all_singer))\n",
    "\n",
    "for i in tqdm(unique_singers):\n",
    "\n",
    "  c = 0\n",
    "  for singers_ in df['singer']:\n",
    "    if (i in singers_):\n",
    "      c += 1\n",
    "\n",
    "  data.append([i,c])"
   ]
  },
  {
   "cell_type": "code",
   "execution_count": 19,
   "id": "2120cc75",
   "metadata": {},
   "outputs": [
    {
     "data": {
      "text/html": [
       "<div>\n",
       "<style scoped>\n",
       "    .dataframe tbody tr th:only-of-type {\n",
       "        vertical-align: middle;\n",
       "    }\n",
       "\n",
       "    .dataframe tbody tr th {\n",
       "        vertical-align: top;\n",
       "    }\n",
       "\n",
       "    .dataframe thead th {\n",
       "        text-align: right;\n",
       "    }\n",
       "</style>\n",
       "<table border=\"1\" class=\"dataframe\">\n",
       "  <thead>\n",
       "    <tr style=\"text-align: right;\">\n",
       "      <th></th>\n",
       "      <th>singer</th>\n",
       "      <th>songs</th>\n",
       "    </tr>\n",
       "  </thead>\n",
       "  <tbody>\n",
       "    <tr>\n",
       "      <th>2027</th>\n",
       "      <td>S. P. Balasubrahmanyam</td>\n",
       "      <td>3659</td>\n",
       "    </tr>\n",
       "    <tr>\n",
       "      <th>330</th>\n",
       "      <td>Kumar</td>\n",
       "      <td>3270</td>\n",
       "    </tr>\n",
       "    <tr>\n",
       "      <th>582</th>\n",
       "      <td>Susheel</td>\n",
       "      <td>3216</td>\n",
       "    </tr>\n",
       "    <tr>\n",
       "      <th>1608</th>\n",
       "      <td>Susheela</td>\n",
       "      <td>3215</td>\n",
       "    </tr>\n",
       "    <tr>\n",
       "      <th>2003</th>\n",
       "      <td>P. Susheela</td>\n",
       "      <td>3213</td>\n",
       "    </tr>\n",
       "    <tr>\n",
       "      <th>314</th>\n",
       "      <td>Lata Mangeshkar</td>\n",
       "      <td>3056</td>\n",
       "    </tr>\n",
       "    <tr>\n",
       "      <th>731</th>\n",
       "      <td>Asha Bhosle</td>\n",
       "      <td>2715</td>\n",
       "    </tr>\n",
       "    <tr>\n",
       "      <th>204</th>\n",
       "      <td>Kishore Kumar</td>\n",
       "      <td>2401</td>\n",
       "    </tr>\n",
       "    <tr>\n",
       "      <th>920</th>\n",
       "      <td>Janaki</td>\n",
       "      <td>2218</td>\n",
       "    </tr>\n",
       "    <tr>\n",
       "      <th>569</th>\n",
       "      <td>S. Janaki</td>\n",
       "      <td>2204</td>\n",
       "    </tr>\n",
       "    <tr>\n",
       "      <th>2655</th>\n",
       "      <td>Mohammed Rafi</td>\n",
       "      <td>2133</td>\n",
       "    </tr>\n",
       "    <tr>\n",
       "      <th>1477</th>\n",
       "      <td>Na</td>\n",
       "      <td>1453</td>\n",
       "    </tr>\n",
       "    <tr>\n",
       "      <th>3507</th>\n",
       "      <td>Chorus</td>\n",
       "      <td>1154</td>\n",
       "    </tr>\n",
       "    <tr>\n",
       "      <th>3917</th>\n",
       "      <td>Ghanatasala</td>\n",
       "      <td>1110</td>\n",
       "    </tr>\n",
       "    <tr>\n",
       "      <th>1788</th>\n",
       "      <td>P.B. Sreenivas</td>\n",
       "      <td>937</td>\n",
       "    </tr>\n",
       "    <tr>\n",
       "      <th>3770</th>\n",
       "      <td>T.M. Soundararajan</td>\n",
       "      <td>911</td>\n",
       "    </tr>\n",
       "    <tr>\n",
       "      <th>1285</th>\n",
       "      <td>Usha</td>\n",
       "      <td>910</td>\n",
       "    </tr>\n",
       "    <tr>\n",
       "      <th>525</th>\n",
       "      <td>Mahendra Kapoor</td>\n",
       "      <td>816</td>\n",
       "    </tr>\n",
       "    <tr>\n",
       "      <th>1519</th>\n",
       "      <td>K J Yesudas</td>\n",
       "      <td>800</td>\n",
       "    </tr>\n",
       "    <tr>\n",
       "      <th>763</th>\n",
       "      <td>Usha Mangeshkar</td>\n",
       "      <td>781</td>\n",
       "    </tr>\n",
       "  </tbody>\n",
       "</table>\n",
       "</div>"
      ],
      "text/plain": [
       "                      singer  songs\n",
       "2027  S. P. Balasubrahmanyam   3659\n",
       "330                    Kumar   3270\n",
       "582                  Susheel   3216\n",
       "1608                Susheela   3215\n",
       "2003             P. Susheela   3213\n",
       "314          Lata Mangeshkar   3056\n",
       "731              Asha Bhosle   2715\n",
       "204            Kishore Kumar   2401\n",
       "920                   Janaki   2218\n",
       "569                S. Janaki   2204\n",
       "2655           Mohammed Rafi   2133\n",
       "1477                      Na   1453\n",
       "3507                  Chorus   1154\n",
       "3917             Ghanatasala   1110\n",
       "1788          P.B. Sreenivas    937\n",
       "3770      T.M. Soundararajan    911\n",
       "1285                    Usha    910\n",
       "525          Mahendra Kapoor    816\n",
       "1519             K J Yesudas    800\n",
       "763          Usha Mangeshkar    781"
      ]
     },
     "execution_count": 19,
     "metadata": {},
     "output_type": "execute_result"
    }
   ],
   "source": [
    "songs = pd.DataFrame(data, columns = ['singer','songs'])\n",
    "\n",
    "songs.head()\n",
    "\n",
    "songs.sort_values(by = 'songs', ascending = False).head(20)"
   ]
  },
  {
   "cell_type": "markdown",
   "id": "bdc82ce8",
   "metadata": {},
   "source": [
    "### 3.9) Singer who played most number of songs in each language?"
   ]
  },
  {
   "cell_type": "code",
   "execution_count": 20,
   "id": "9dcdedcd",
   "metadata": {},
   "outputs": [
    {
     "name": "stdout",
     "output_type": "stream",
     "text": [
      "Urdu 3116 385\n",
      "Gujarati 2115 303\n",
      "Tamil 4677 510\n",
      "Kannada 3559 379\n",
      "Rajasthani 541 218\n",
      "Haryanvi 228 76\n",
      "Punjabi 3818 636\n",
      "Hindi 4993 515\n",
      "Old 4993 515\n",
      "Malayalam 479 72\n",
      "Marathi 4699 569\n",
      "Telugu 4996 369\n",
      "Odia 940 243\n",
      "Bhojpuri 519 109\n",
      "Assamese 724 228\n",
      "Bengali 958 192\n"
     ]
    }
   ],
   "source": [
    "for lang in df['language'].unique():\n",
    "\n",
    "  df_ = df[df['language'] == lang]\n",
    "  \n",
    "  all_singer = []\n",
    "  for singers in df_['singer']:\n",
    "    all_singer += singers.split('|')\n",
    "\n",
    "  print(lang, len(df_),len(set(all_singer)))"
   ]
  },
  {
   "cell_type": "code",
   "execution_count": null,
   "id": "37eabde3",
   "metadata": {},
   "outputs": [],
   "source": []
  }
 ],
 "metadata": {
  "kernelspec": {
   "display_name": "Python 3 (ipykernel)",
   "language": "python",
   "name": "python3"
  },
  "language_info": {
   "codemirror_mode": {
    "name": "ipython",
    "version": 3
   },
   "file_extension": ".py",
   "mimetype": "text/x-python",
   "name": "python",
   "nbconvert_exporter": "python",
   "pygments_lexer": "ipython3",
   "version": "3.9.12"
  }
 },
 "nbformat": 4,
 "nbformat_minor": 5
}
